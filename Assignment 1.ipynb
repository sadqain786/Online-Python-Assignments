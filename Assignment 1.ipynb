{
 "cells": [
  {
   "cell_type": "code",
   "execution_count": 1,
   "id": "66123744",
   "metadata": {},
   "outputs": [
    {
     "name": "stdout",
     "output_type": "stream",
     "text": [
      "Twinkle, Twinkle, Little Star\n",
      "                How I wonder what you are!\n",
      "                        Up above the world so high,\n",
      "                        Like a diamond in the sky.\n",
      "         Twinkle, Twinkle, Little Star\n",
      "                 How I wonder what you are\n"
     ]
    }
   ],
   "source": [
    "print(\"\"\"Twinkle, Twinkle, Little Star\n",
    "                How I wonder what you are!\n",
    "                        Up above the world so high,\n",
    "                        Like a diamond in the sky.\n",
    "         Twinkle, Twinkle, Little Star\n",
    "                 How I wonder what you are\"\"\")"
   ]
  },
  {
   "cell_type": "code",
   "execution_count": null,
   "id": "c575d5dd",
   "metadata": {},
   "outputs": [],
   "source": [
    "!python -v"
   ]
  },
  {
   "cell_type": "code",
   "execution_count": null,
   "id": "4ecd729c",
   "metadata": {},
   "outputs": [],
   "source": [
    "import datetime\n",
    "print(datetime.datetime.now())"
   ]
  },
  {
   "cell_type": "code",
   "execution_count": null,
   "id": "953a9b2c",
   "metadata": {},
   "outputs": [],
   "source": [
    "pi=(3.14)\n",
    "print(\"Please input the radius of the circle\")\n",
    "r=integer(input())\n",
    "a= (pi*r*r)\n",
    "print(\"The area of the cirle is \"+a)"
   ]
  },
  {
   "cell_type": "code",
   "execution_count": null,
   "id": "43209b66",
   "metadata": {},
   "outputs": [],
   "source": [
    "print(\"What is your first name?\")\n",
    "f=input()\n",
    "print(\"What is your last name?\")\n",
    "l=input()\n",
    "print(l + \" \" + f)"
   ]
  },
  {
   "cell_type": "code",
   "execution_count": null,
   "id": "6eb25681",
   "metadata": {},
   "outputs": [],
   "source": [
    "print(\"Please enter any number\")\n",
    "a=float(input())\n",
    "b=float(input())\n",
    "print(\"Please write another number\")\n",
    "print(a+b)"
   ]
  },
  {
   "cell_type": "code",
   "execution_count": null,
   "id": "d419f8d1",
   "metadata": {},
   "outputs": [],
   "source": []
  }
 ],
 "metadata": {
  "kernelspec": {
   "display_name": "Python 3 (ipykernel)",
   "language": "python",
   "name": "python3"
  },
  "language_info": {
   "codemirror_mode": {
    "name": "ipython",
    "version": 3
   },
   "file_extension": ".py",
   "mimetype": "text/x-python",
   "name": "python",
   "nbconvert_exporter": "python",
   "pygments_lexer": "ipython3",
   "version": "3.9.7"
  }
 },
 "nbformat": 4,
 "nbformat_minor": 5
}
